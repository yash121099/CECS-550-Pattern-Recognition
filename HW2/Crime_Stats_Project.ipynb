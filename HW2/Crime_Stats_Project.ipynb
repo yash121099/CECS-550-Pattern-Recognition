{
  "cells": [
    {
      "cell_type": "markdown",
      "id": "55e6b918-afac-43e8-b338-43f8ac64014f",
      "metadata": {
        "id": "55e6b918-afac-43e8-b338-43f8ac64014f"
      },
      "source": [
        "##  Deep Neural Networks Project"
      ]
    },
    {
      "cell_type": "markdown",
      "id": "1a8e066d-2849-4a6e-9c71-bb98d605ae07",
      "metadata": {
        "id": "1a8e066d-2849-4a6e-9c71-bb98d605ae07"
      },
      "source": [
        "In this project, you will be working with a real-world data set from the Las Vegas Metropolitan Police Department. The dataset  contains information about the reported incidents, including the time and location of the crime, type of incident, and number of persons involved."
      ]
    },
    {
      "cell_type": "markdown",
      "id": "9e87fac7-352a-4c39-b087-76254b5e2743",
      "metadata": {
        "id": "9e87fac7-352a-4c39-b087-76254b5e2743"
      },
      "source": [
        "The dataset is downloaded from the public docket at:\n",
        "https://opendata-lvmpd.hub.arcgis.com\n",
        "\n",
        "let's read the csv file and transform the data:"
      ]
    },
    {
      "cell_type": "code",
      "execution_count": 2111,
      "id": "637211a4-582f-426b-a127-c3f284463f35",
      "metadata": {
        "id": "637211a4-582f-426b-a127-c3f284463f35"
      },
      "outputs": [],
      "source": [
        "import torch\n",
        "import pandas as pd\n",
        "from torch.utils.data import DataLoader, Dataset\n",
        "import matplotlib.pyplot as plt\n",
        "import seaborn as sns\n",
        "import numpy as np"
      ]
    },
    {
      "cell_type": "code",
      "execution_count": 2112,
      "id": "bcf40b02-80b6-4abc-a662-f7ed50a65181",
      "metadata": {
        "id": "bcf40b02-80b6-4abc-a662-f7ed50a65181"
      },
      "outputs": [],
      "source": [
        "orig_df = pd.read_csv('/content/LVMPD-Stats.csv', parse_dates=['ReportedOn'])"
      ]
    },
    {
      "cell_type": "code",
      "execution_count": 2113,
      "id": "e1ca1d15-3955-4971-a3c4-c1a73b62edda",
      "metadata": {
        "id": "e1ca1d15-3955-4971-a3c4-c1a73b62edda"
      },
      "outputs": [],
      "source": [
        "df = pd.read_csv('/content/LVMPD-Stats.csv', parse_dates=['ReportedOn'],\n",
        "                 usecols = ['X', 'Y', 'ReportedOn',\n",
        "                            'Area_Command','NIBRSOffenseCode',\n",
        "                            'VictimCount' ] )\n",
        "\n",
        "df['DayOfWeek'] = df['ReportedOn'].dt.day_name()\n",
        "df['Time' ]     = df['ReportedOn'].dt.hour\n",
        "df.drop(columns = 'ReportedOn', inplace=True)"
      ]
    },
    {
      "cell_type": "code",
      "execution_count": 2114,
      "id": "3ddc413d-ba3f-4204-bc18-7fdd4de8d221",
      "metadata": {
        "id": "3ddc413d-ba3f-4204-bc18-7fdd4de8d221"
      },
      "outputs": [],
      "source": [
        "\n",
        "df['X'] = df['X']\n",
        "df['Y'] = df['Y']\n",
        "df['Time'] = pd.factorize(df['Time'])[0]\n",
        "df['DayOfWeek'] = pd.factorize(df['DayOfWeek'])[0]\n",
        "df.Area_Command = pd.factorize(df['Area_Command'])[0]\n",
        "df.VictimCount = pd.factorize(df['VictimCount'])[0]\n",
        "df.NIBRSOffenseCode = pd.factorize(df['NIBRSOffenseCode'])[0]\n",
        "df.dropna(inplace=True)"
      ]
    },
    {
      "cell_type": "code",
      "execution_count": 2115,
      "id": "a9c6162f-9686-4195-818d-950a6368c686",
      "metadata": {
        "id": "a9c6162f-9686-4195-818d-950a6368c686"
      },
      "outputs": [],
      "source": [
        "df= df[['X', 'Y', 'Area_Command', 'NIBRSOffenseCode',\n",
        "       'DayOfWeek', 'Time','VictimCount']]"
      ]
    },
    {
      "cell_type": "code",
      "execution_count": 2116,
      "id": "a90bc78a-6d1b-4fe4-a1b0-8333aec1c851",
      "metadata": {
        "colab": {
          "base_uri": "https://localhost:8080/"
        },
        "id": "a90bc78a-6d1b-4fe4-a1b0-8333aec1c851",
        "outputId": "8adf6ad8-5bc6-42ab-e0d9-0d0711b34331"
      },
      "outputs": [
        {
          "output_type": "execute_result",
          "data": {
            "text/plain": [
              "(275, 7)"
            ]
          },
          "metadata": {},
          "execution_count": 2116
        }
      ],
      "source": [
        "df.values.shape"
      ]
    },
    {
      "cell_type": "markdown",
      "id": "651605b1-8d2c-4d3e-a09e-9aef6e550fc6",
      "metadata": {
        "id": "651605b1-8d2c-4d3e-a09e-9aef6e550fc6"
      },
      "source": [
        "# Goal\n",
        "The goal is to build a predictive model that is trained on the following data:\n",
        "* latitude and longitude (location)\n",
        "* Hour of the day\n",
        "* Day of the week\n",
        "* Area-of-command code: The police designation of the bureau of the operation.\n",
        "* Classification code for the crime committed\n",
        "  \n",
        "The predicted variable is the number of persons involved in the accident.\n"
      ]
    },
    {
      "cell_type": "markdown",
      "id": "0e54f0b8-83f9-4db9-88f9-f5a595342069",
      "metadata": {
        "id": "0e54f0b8-83f9-4db9-88f9-f5a595342069"
      },
      "source": [
        "## Task 1\n",
        "* print a few rows of the values in the dataframe ``df`` and explain what each column of data means.\n",
        "* identify the input and target variables\n",
        "* what is the range of values in each column? Do you need to scale, shift or normalize your data?\n"
      ]
    },
    {
      "cell_type": "code",
      "source": [
        "print(df.head())\n",
        "print(df.describe())\n"
      ],
      "metadata": {
        "colab": {
          "base_uri": "https://localhost:8080/"
        },
        "id": "BQURZNdbmrYj",
        "outputId": "7ae134f4-94ff-4032-d9a5-8ccc26f6e4f1"
      },
      "id": "BQURZNdbmrYj",
      "execution_count": 2117,
      "outputs": [
        {
          "output_type": "stream",
          "name": "stdout",
          "text": [
            "            X          Y  Area_Command  NIBRSOffenseCode  DayOfWeek  Time  \\\n",
            "0 -115.087518  36.216702             0                 0          0     0   \n",
            "1 -115.240172  36.189693             1                 1          1     1   \n",
            "2 -115.143088  36.181329             2                 1          2     0   \n",
            "3 -115.225014  36.117633             3                 1          1     2   \n",
            "4 -115.176708  36.095967             4                 1          1     3   \n",
            "\n",
            "   VictimCount  \n",
            "0            0  \n",
            "1            0  \n",
            "2            1  \n",
            "3            2  \n",
            "4            0  \n",
            "                X           Y  Area_Command  NIBRSOffenseCode   DayOfWeek  \\\n",
            "count  275.000000  275.000000    275.000000        275.000000  275.000000   \n",
            "mean  -115.159326   36.143360      3.978182          0.909091    2.981818   \n",
            "std      0.101294    0.118418      3.045799          0.334878    1.924590   \n",
            "min   -116.000000   35.068419      0.000000          0.000000    0.000000   \n",
            "25%   -115.209198   36.114704      1.000000          1.000000    1.000000   \n",
            "50%   -115.149945   36.152415      3.000000          1.000000    3.000000   \n",
            "75%   -115.105200   36.183854      6.000000          1.000000    5.000000   \n",
            "max   -114.625570   37.000000     11.000000          2.000000    6.000000   \n",
            "\n",
            "             Time  VictimCount  \n",
            "count  275.000000   275.000000  \n",
            "mean    11.236364     0.712727  \n",
            "std      7.039937     0.978427  \n",
            "min      0.000000     0.000000  \n",
            "25%      5.000000     0.000000  \n",
            "50%     11.000000     0.000000  \n",
            "75%     18.000000     1.000000  \n",
            "max     23.000000     6.000000  \n"
          ]
        }
      ]
    },
    {
      "cell_type": "markdown",
      "source": [
        "Within the provided dataframe, column 'X' denotes the crime incident's longitude coordinate, whereas column 'Y' denotes its latitude coordinate. Area_Command designates the particular police division in charge of the operation. \"NIBRSOffenseCode\" is the classification code for the offense that was committed. The column labeled 'VictimCount' indicates how many people were present during the incident. 'Time' indicates the hour of the day the incident happened and was reported, and 'DayOfWeek' documents the day of the week the offense was recorded."
      ],
      "metadata": {
        "id": "34icqV4ZnGF5"
      },
      "id": "34icqV4ZnGF5"
    },
    {
      "cell_type": "code",
      "source": [
        "# input and target information\n",
        "input_columns = ['X', 'Y', 'DayOfWeek', 'Time', 'Area_Command', 'NIBRSOffenseCode']\n",
        "target_column = 'VictimCount'\n",
        "\n",
        "# calculating range\n",
        "column_ranges = df.describe(include='all').loc[['min', 'max']]\n",
        "\n",
        "input_target_info = {\n",
        "    \"Input Variables\": input_columns,\n",
        "    \"Target Variable\": target_column,\n",
        "    \"Column Ranges\": column_ranges\n",
        "}\n",
        "\n",
        "input_target_info\n"
      ],
      "metadata": {
        "colab": {
          "base_uri": "https://localhost:8080/"
        },
        "id": "zJPsqdTjn2QE",
        "outputId": "6864bdba-31d5-4719-991f-4b83c7f22450"
      },
      "id": "zJPsqdTjn2QE",
      "execution_count": 2118,
      "outputs": [
        {
          "output_type": "execute_result",
          "data": {
            "text/plain": [
              "{'Input Variables': ['X',\n",
              "  'Y',\n",
              "  'DayOfWeek',\n",
              "  'Time',\n",
              "  'Area_Command',\n",
              "  'NIBRSOffenseCode'],\n",
              " 'Target Variable': 'VictimCount',\n",
              " 'Column Ranges':              X          Y  Area_Command  NIBRSOffenseCode  DayOfWeek  Time  \\\n",
              " min -116.00000  35.068419           0.0               0.0        0.0   0.0   \n",
              " max -114.62557  37.000000          11.0               2.0        6.0  23.0   \n",
              " \n",
              "      VictimCount  \n",
              " min          0.0  \n",
              " max          6.0  }"
            ]
          },
          "metadata": {},
          "execution_count": 2118
        }
      ]
    },
    {
      "cell_type": "markdown",
      "source": [
        "**Input and Target Variables:**\n",
        "\n",
        "Input Variables: X, Y, DayOfWeek, Time, Area_Command, NIBRSOffenseCode\n",
        "Target Variable: VictimCount\n",
        "\n",
        "**Range of Values in Each Column:**\n",
        "\n",
        "While the latitude (Y) fluctuates from roughly 35.07 to 37, the longitude (X) is roughly between -116 and -114.63. Hours of the day are used to indicate time, and they range from 0 to 23. The number of victims is indicated by VictimCount, which ranges from 0 to 15. Regarding the DayOfWeek, Area_Command, and NIBRSOffenseCode columns, the precise range of values is not immediately relevant because they comprise categorical data. More investigation is required to comprehend the distinct values seen in these columns."
      ],
      "metadata": {
        "id": "xkpFkVJQokO2"
      },
      "id": "xkpFkVJQokO2"
    },
    {
      "cell_type": "markdown",
      "source": [
        "It is important to evaluate the properties of the involved columns in order to determine whether or not data preprocessing is required. Normalization is useful for continuous variables such as X, Y, and Time, especially when using neural networks. Conversely, encoding techniques like one-hot encoding may be necessary for categorical variables like DayOfWeek, Area_Command, and NIBRSOffenseCode in order to improve the model's understanding of them."
      ],
      "metadata": {
        "id": "PacOeZEto76B"
      },
      "id": "PacOeZEto76B"
    },
    {
      "cell_type": "code",
      "source": [
        "#distinct values\n",
        "distinct_values = {\n",
        "    \"DayOfWeek\": df['DayOfWeek'].unique(),\n",
        "    \"Area_Command\": df['Area_Command'].unique(),\n",
        "    \"NIBRSOffenseCode\": df['NIBRSOffenseCode'].unique()\n",
        "}\n",
        "\n",
        "distinct_values\n"
      ],
      "metadata": {
        "colab": {
          "base_uri": "https://localhost:8080/"
        },
        "id": "e6onc5l4o2cK",
        "outputId": "ea07bb67-95be-4135-aaa6-84265c491bcb"
      },
      "id": "e6onc5l4o2cK",
      "execution_count": 2119,
      "outputs": [
        {
          "output_type": "execute_result",
          "data": {
            "text/plain": [
              "{'DayOfWeek': array([0, 1, 2, 3, 4, 5, 6]),\n",
              " 'Area_Command': array([ 0,  1,  2,  3,  4,  5,  6,  7,  8,  9, 10, 11]),\n",
              " 'NIBRSOffenseCode': array([0, 1, 2])}"
            ]
          },
          "metadata": {},
          "execution_count": 2119
        }
      ]
    },
    {
      "cell_type": "markdown",
      "source": [
        "Of course, this is the paraphrased version:\n",
        "\n",
        "After looking at the unique values in our category columns, a few things become clear:\n",
        "\n",
        "The days of the week are represented by a range of seven different values for the 'DayOfWeek' column: ['Friday, Thursday, Tuesday, Saturday, Sunday, Monday, Wednesday].\n",
        "\n",
        "Twelve distinct values representing various police area commands can be found in the 'Area_Command' column: 'NEAC', 'BAC', 'DTAC', 'SVAC', 'CCAC', 'SCAC', 'SAC', 'EAC', 'NWAC', 'SEAC', 'RO', 'DF'.\n",
        "\n",
        "In the meanwhile, three distinct values—\"09C,\" \"09A,\" and \"09B\"—are displayed in the \"NIBRSOffenseCode\" column, denoting different criminal classifications.\n",
        "\n",
        "Considering these details, a few preprocessing actions become clear:\n",
        "\n",
        "Continuous columns like X, Y, and Time should be normalized to provide scale consistency.\n"
      ],
      "metadata": {
        "id": "YvvQdySjpKVD"
      },
      "id": "YvvQdySjpKVD"
    },
    {
      "cell_type": "markdown",
      "id": "5549ecc9-3c0b-4efa-9a1f-340a25a1e4be",
      "metadata": {
        "id": "5549ecc9-3c0b-4efa-9a1f-340a25a1e4be"
      },
      "source": [
        "## Task 2\n",
        "\n",
        "* Create two `DataLoader` objects for training and testing based on the input and output variables. Pick a reasonable batch size and verify the shape of data by iterating over the one dataset and printing the shape of the batched data."
      ]
    },
    {
      "cell_type": "code",
      "execution_count": 2120,
      "id": "00fe4287-934b-4799-9e43-c3571acfbab4",
      "metadata": {
        "id": "00fe4287-934b-4799-9e43-c3571acfbab4"
      },
      "outputs": [],
      "source": [
        "import pandas as pd\n",
        "import torch\n",
        "from sklearn.model_selection import train_test_split\n",
        "from torch.utils.data import DataLoader, TensorDataset\n"
      ]
    },
    {
      "cell_type": "code",
      "source": [
        "# loading\n",
        "df = pd.read_csv('LVMPD-Stats.csv', parse_dates=['ReportedOn'],\n",
        "                 usecols=['X', 'Y', 'ReportedOn', 'Area_Command', 'NIBRSOffenseCode', 'VictimCount'])\n",
        "df['DayOfWeek'] = df['ReportedOn'].dt.day_name()\n",
        "df['Time'] = df['ReportedOn'].dt.hour\n",
        "df.drop(columns='ReportedOn', inplace=True)\n",
        "\n",
        "# data of column to code\n",
        "for col in ['DayOfWeek', 'Area_Command', 'NIBRSOffenseCode']:\n",
        "    df[col] = df[col].astype('category').cat.codes\n"
      ],
      "metadata": {
        "id": "-T18REAGpgfC"
      },
      "id": "-T18REAGpgfC",
      "execution_count": 2121,
      "outputs": []
    },
    {
      "cell_type": "code",
      "source": [
        "# Splitting with train of 80% and test of 20%.\n",
        "trdf, tsdf = train_test_split(df, test_size=0.2, random_state=42)\n",
        "\n",
        "# df to PyTorch tensors\n",
        "trdata = TensorDataset(torch.tensor(trdf.drop(columns='VictimCount').values, dtype=torch.float32),\n",
        "                              torch.tensor(trdf['VictimCount'].values, dtype=torch.float32))\n",
        "tsdata = TensorDataset(torch.tensor(tsdf.drop(columns='VictimCount').values, dtype=torch.float32),\n",
        "                             torch.tensor(tsdf['VictimCount'].values, dtype=torch.float32))\n",
        "\n",
        "# Creating DataLoader objects\n",
        "batch_size = 32\n",
        "tr_load = DataLoader(trdata, batch_size=batch_size, shuffle=True)\n",
        "ts_load = DataLoader(tsdata, batch_size=batch_size, shuffle=False)\n"
      ],
      "metadata": {
        "id": "UudUVcGdpk2s"
      },
      "id": "UudUVcGdpk2s",
      "execution_count": 2122,
      "outputs": []
    },
    {
      "cell_type": "code",
      "source": [
        "# Check the shape of the first batch\n",
        "first_batch = next(iter(tr_load))\n",
        "print(\"shape of the feature:\", first_batch[0].shape)\n",
        "print(\"shape that is target:\", first_batch[1].shape)\n"
      ],
      "metadata": {
        "colab": {
          "base_uri": "https://localhost:8080/"
        },
        "id": "-eJxchVmpmPM",
        "outputId": "94259676-fc91-42af-9163-dc1f26575f01"
      },
      "id": "-eJxchVmpmPM",
      "execution_count": 2123,
      "outputs": [
        {
          "output_type": "stream",
          "name": "stdout",
          "text": [
            "shape of the feature: torch.Size([32, 6])\n",
            "shape that is target: torch.Size([32])\n"
          ]
        }
      ]
    },
    {
      "cell_type": "markdown",
      "id": "1fb6f08c-5e70-4b14-b62c-4686d9f7aace",
      "metadata": {
        "id": "1fb6f08c-5e70-4b14-b62c-4686d9f7aace"
      },
      "source": [
        "## Task 3\n",
        "In this task you will try to predict number of crime victims as a **real number**. Therefore the machine learning problem is a **regression** problem.\n",
        "\n",
        "* Define the proper loss function for this task\n",
        "* what should the size of the predicted output be?\n",
        "* explain your choice of architecture, including how many layers you will be using\n",
        "* define an optimizer for training this model, choose a proper learning rate\n",
        "* write a training loop that obtains a batch out of the  training data and calculates the forward and backward passes over the neural network. Call the optimizer to update the weights of the neural network.\n",
        "* write a for loop that continues the training over a number of epochs. At the end of each epoch, calculate the ``MSE`` error on the test data and print it.\n",
        "* is your model training well? Adjust the learning rate, hidden size of the network, and try different activation functions and number of layers to achieve the best accuracy and report it."
      ]
    },
    {
      "cell_type": "code",
      "source": [
        "import torch.nn as nn\n",
        "\n",
        "class VictimReg(nn.Module):\n",
        "    def __init__(self, feature_count):\n",
        "        super(VictimReg, self).__init__()\n",
        "\n",
        "        self.network = nn.Sequential(\n",
        "            nn.Linear(feature_count, 128),\n",
        "            nn.Sigmoid(),   # Sigmoid activation function\n",
        "            nn.Linear(128, 64),\n",
        "            nn.Sigmoid(),\n",
        "            nn.Linear(64, 32),\n",
        "            nn.Sigmoid(),\n",
        "            nn.Linear(32, 1)\n",
        "            # Final layer\n",
        "        )\n",
        "\n",
        "    def forward(self, input_tensor):\n",
        "        \"\"\"Drive input through the network layers.\"\"\"\n",
        "        return self.network(input_tensor)\n"
      ],
      "metadata": {
        "id": "lh-b-9am5suS"
      },
      "id": "lh-b-9am5suS",
      "execution_count": 2124,
      "outputs": []
    },
    {
      "cell_type": "code",
      "source": [
        "Total_feature = trdf.shape[1] - 1\n",
        "model = VictimReg(Total_feature)"
      ],
      "metadata": {
        "id": "JG0mHHEsvuXp"
      },
      "id": "JG0mHHEsvuXp",
      "execution_count": 2125,
      "outputs": []
    },
    {
      "cell_type": "code",
      "source": [
        "criterion = nn.MSELoss() #loss func"
      ],
      "metadata": {
        "id": "gia928SIsbGT"
      },
      "id": "gia928SIsbGT",
      "execution_count": 2126,
      "outputs": []
    },
    {
      "cell_type": "markdown",
      "source": [
        "The Mean Squared Error loss function is frequently utilized in regression projects. For continuous data forecasting, it computes the average squared difference between the actual and expected values."
      ],
      "metadata": {
        "id": "MDqwVUs2sl0Q"
      },
      "id": "MDqwVUs2sl0Q"
    },
    {
      "cell_type": "markdown",
      "source": [
        "**size of the predicted output be:**\n",
        "\n",
        "Our objective in this regression exercise is to precisely estimate the number of victims of crime for every input sample. Therefore, a single real number that represents the total number of victims should be the expected output for each sample."
      ],
      "metadata": {
        "id": "STRn3IUntAyR"
      },
      "id": "STRn3IUntAyR"
    },
    {
      "cell_type": "markdown",
      "source": [
        "**Choice of architecture, including how many layers you will be using:**\n",
        "\n",
        "The number of features in the dataset is matched by the input layer. It uses 128 neurons with sigmoid activation functions in the first hidden layer. A sigmoid function is present in 64 neurons in the second hidden layer and 32 neurons in the third hidden layer. One neuron should be present in the output layer, particularly for regression tasks. Because sigmoid activation avoids the vanishing gradient problem and is computationally efficient, it is an important choice. It is crucial to have numerous layers because they allow the network to extract complex representations and patterns from the provided data."
      ],
      "metadata": {
        "id": "XXbvt0gEtb0c"
      },
      "id": "XXbvt0gEtb0c"
    },
    {
      "cell_type": "code",
      "source": [
        "optimizer = torch.optim.Adam(model.parameters(), lr=0.001) # Optimizer taken for the function below\n"
      ],
      "metadata": {
        "id": "fRgieIqEspjg"
      },
      "id": "fRgieIqEspjg",
      "execution_count": 2127,
      "outputs": []
    },
    {
      "cell_type": "code",
      "source": [
        "# Training cycle\n",
        "epochs = 100\n",
        "mse_best = float('inf')  # Start with a very high value for MSE\n",
        "\n",
        "for current_epoch in range(epochs):\n",
        "\n",
        "    model.train()  # Setting the model to train first\n",
        "    ac_loss = 0.0\n",
        "\n",
        "    for data, labels in tr_load:\n",
        "        optimizer.zero_grad()  # Gradient reset\n",
        "\n",
        "        pred = model(data)  # Prediction\n",
        "\n",
        "        tr_loss = criterion(pred.squeeze(), labels)  # Loss for training\n",
        "\n",
        "        # Backpropagation\n",
        "        tr_loss.backward()\n",
        "        optimizer.step()\n",
        "\n",
        "        ac_loss += tr_loss.item() * data.size(0)\n",
        "\n",
        "    avg_tr_loss = ac_loss / len(tr_load.dataset)  # Average training loss\n",
        "\n",
        "    # Switch to evaluation mode\n",
        "    model.eval()\n",
        "    entire_tst_loss = 0.0\n",
        "\n",
        "    with torch.no_grad():  # Avoid unnecessary computations\n",
        "        for data, labels in ts_load:\n",
        "            pred = model(data)\n",
        "            eval_loss = criterion(pred.squeeze(), labels)\n",
        "            entire_tst_loss += eval_loss.item() * data.size(0)\n",
        "\n",
        "    avg_test_loss = entire_tst_loss / len(ts_load.dataset)\n",
        "\n",
        "    # Check if current test MSE is the best so far\n",
        "    if avg_test_loss < mse_best:\n",
        "        mse_best = avg_test_loss\n",
        "\n",
        "    print(f\"Epoch [{current_epoch+1}/{epochs}], Loss while training: {avg_tr_loss:.4f}, MSE while Testing: {avg_test_loss:.4f}\")\n",
        "\n",
        "print(f\"\\n Best MSE among all the epochs which are tested: {mse_best:.4f}\")\n"
      ],
      "metadata": {
        "colab": {
          "base_uri": "https://localhost:8080/"
        },
        "id": "TYZ0rhkBBzRb",
        "outputId": "93b5ece7-e763-4176-8811-6d0b861e821c"
      },
      "id": "TYZ0rhkBBzRb",
      "execution_count": 2128,
      "outputs": [
        {
          "output_type": "stream",
          "name": "stdout",
          "text": [
            "Epoch [1/100], Loss while training: 1.7886, MSE while Testing: 0.5848\n",
            "Epoch [2/100], Loss while training: 1.6499, MSE while Testing: 0.5473\n",
            "Epoch [3/100], Loss while training: 1.6511, MSE while Testing: 0.5533\n",
            "Epoch [4/100], Loss while training: 1.6634, MSE while Testing: 0.5552\n",
            "Epoch [5/100], Loss while training: 1.6586, MSE while Testing: 0.5471\n",
            "Epoch [6/100], Loss while training: 1.6510, MSE while Testing: 0.5500\n",
            "Epoch [7/100], Loss while training: 1.6503, MSE while Testing: 0.5474\n",
            "Epoch [8/100], Loss while training: 1.6479, MSE while Testing: 0.5465\n",
            "Epoch [9/100], Loss while training: 1.6486, MSE while Testing: 0.5465\n",
            "Epoch [10/100], Loss while training: 1.6504, MSE while Testing: 0.5455\n",
            "Epoch [11/100], Loss while training: 1.6475, MSE while Testing: 0.5449\n",
            "Epoch [12/100], Loss while training: 1.6462, MSE while Testing: 0.5456\n",
            "Epoch [13/100], Loss while training: 1.6456, MSE while Testing: 0.5447\n",
            "Epoch [14/100], Loss while training: 1.6462, MSE while Testing: 0.5434\n",
            "Epoch [15/100], Loss while training: 1.6442, MSE while Testing: 0.5423\n",
            "Epoch [16/100], Loss while training: 1.6497, MSE while Testing: 0.5441\n",
            "Epoch [17/100], Loss while training: 1.6429, MSE while Testing: 0.5411\n",
            "Epoch [18/100], Loss while training: 1.6421, MSE while Testing: 0.5404\n",
            "Epoch [19/100], Loss while training: 1.6452, MSE while Testing: 0.5402\n",
            "Epoch [20/100], Loss while training: 1.6396, MSE while Testing: 0.5394\n",
            "Epoch [21/100], Loss while training: 1.6393, MSE while Testing: 0.5386\n",
            "Epoch [22/100], Loss while training: 1.6403, MSE while Testing: 0.5383\n",
            "Epoch [23/100], Loss while training: 1.6382, MSE while Testing: 0.5368\n",
            "Epoch [24/100], Loss while training: 1.6403, MSE while Testing: 0.5367\n",
            "Epoch [25/100], Loss while training: 1.6365, MSE while Testing: 0.5350\n",
            "Epoch [26/100], Loss while training: 1.6398, MSE while Testing: 0.5387\n",
            "Epoch [27/100], Loss while training: 1.6370, MSE while Testing: 0.5331\n",
            "Epoch [28/100], Loss while training: 1.6338, MSE while Testing: 0.5328\n",
            "Epoch [29/100], Loss while training: 1.6307, MSE while Testing: 0.5311\n",
            "Epoch [30/100], Loss while training: 1.6297, MSE while Testing: 0.5299\n",
            "Epoch [31/100], Loss while training: 1.6265, MSE while Testing: 0.5295\n",
            "Epoch [32/100], Loss while training: 1.6303, MSE while Testing: 0.5317\n",
            "Epoch [33/100], Loss while training: 1.6262, MSE while Testing: 0.5265\n",
            "Epoch [34/100], Loss while training: 1.6208, MSE while Testing: 0.5251\n",
            "Epoch [35/100], Loss while training: 1.6256, MSE while Testing: 0.5237\n",
            "Epoch [36/100], Loss while training: 1.6179, MSE while Testing: 0.5258\n",
            "Epoch [37/100], Loss while training: 1.6200, MSE while Testing: 0.5254\n",
            "Epoch [38/100], Loss while training: 1.6167, MSE while Testing: 0.5205\n",
            "Epoch [39/100], Loss while training: 1.6205, MSE while Testing: 0.5194\n",
            "Epoch [40/100], Loss while training: 1.6117, MSE while Testing: 0.5215\n",
            "Epoch [41/100], Loss while training: 1.6084, MSE while Testing: 0.5197\n",
            "Epoch [42/100], Loss while training: 1.6037, MSE while Testing: 0.5140\n",
            "Epoch [43/100], Loss while training: 1.6015, MSE while Testing: 0.5126\n",
            "Epoch [44/100], Loss while training: 1.6027, MSE while Testing: 0.5113\n",
            "Epoch [45/100], Loss while training: 1.5936, MSE while Testing: 0.5131\n",
            "Epoch [46/100], Loss while training: 1.5922, MSE while Testing: 0.5091\n",
            "Epoch [47/100], Loss while training: 1.5881, MSE while Testing: 0.5064\n",
            "Epoch [48/100], Loss while training: 1.5926, MSE while Testing: 0.5104\n",
            "Epoch [49/100], Loss while training: 1.5793, MSE while Testing: 0.5035\n",
            "Epoch [50/100], Loss while training: 1.5895, MSE while Testing: 0.5040\n",
            "Epoch [51/100], Loss while training: 1.5799, MSE while Testing: 0.5036\n",
            "Epoch [52/100], Loss while training: 1.5767, MSE while Testing: 0.5009\n",
            "Epoch [53/100], Loss while training: 1.5727, MSE while Testing: 0.5023\n",
            "Epoch [54/100], Loss while training: 1.5695, MSE while Testing: 0.4997\n",
            "Epoch [55/100], Loss while training: 1.5683, MSE while Testing: 0.5019\n",
            "Epoch [56/100], Loss while training: 1.5597, MSE while Testing: 0.4985\n",
            "Epoch [57/100], Loss while training: 1.5640, MSE while Testing: 0.4978\n",
            "Epoch [58/100], Loss while training: 1.5596, MSE while Testing: 0.5008\n",
            "Epoch [59/100], Loss while training: 1.5556, MSE while Testing: 0.4986\n",
            "Epoch [60/100], Loss while training: 1.5578, MSE while Testing: 0.4966\n",
            "Epoch [61/100], Loss while training: 1.5595, MSE while Testing: 0.4989\n",
            "Epoch [62/100], Loss while training: 1.5614, MSE while Testing: 0.5105\n",
            "Epoch [63/100], Loss while training: 1.5477, MSE while Testing: 0.4990\n",
            "Epoch [64/100], Loss while training: 1.5470, MSE while Testing: 0.5005\n",
            "Epoch [65/100], Loss while training: 1.5532, MSE while Testing: 0.5017\n",
            "Epoch [66/100], Loss while training: 1.5429, MSE while Testing: 0.5014\n",
            "Epoch [67/100], Loss while training: 1.5469, MSE while Testing: 0.5015\n",
            "Epoch [68/100], Loss while training: 1.5417, MSE while Testing: 0.5117\n",
            "Epoch [69/100], Loss while training: 1.5420, MSE while Testing: 0.5009\n",
            "Epoch [70/100], Loss while training: 1.5413, MSE while Testing: 0.5019\n",
            "Epoch [71/100], Loss while training: 1.5400, MSE while Testing: 0.5037\n",
            "Epoch [72/100], Loss while training: 1.5333, MSE while Testing: 0.5066\n",
            "Epoch [73/100], Loss while training: 1.5409, MSE while Testing: 0.5125\n",
            "Epoch [74/100], Loss while training: 1.5328, MSE while Testing: 0.5055\n",
            "Epoch [75/100], Loss while training: 1.5551, MSE while Testing: 0.5065\n",
            "Epoch [76/100], Loss while training: 1.5233, MSE while Testing: 0.5210\n",
            "Epoch [77/100], Loss while training: 1.5459, MSE while Testing: 0.5065\n",
            "Epoch [78/100], Loss while training: 1.5411, MSE while Testing: 0.5070\n",
            "Epoch [79/100], Loss while training: 1.5295, MSE while Testing: 0.5148\n",
            "Epoch [80/100], Loss while training: 1.5311, MSE while Testing: 0.5073\n",
            "Epoch [81/100], Loss while training: 1.5369, MSE while Testing: 0.5085\n",
            "Epoch [82/100], Loss while training: 1.5236, MSE while Testing: 0.5091\n",
            "Epoch [83/100], Loss while training: 1.5347, MSE while Testing: 0.5097\n",
            "Epoch [84/100], Loss while training: 1.5270, MSE while Testing: 0.5108\n",
            "Epoch [85/100], Loss while training: 1.5266, MSE while Testing: 0.5127\n",
            "Epoch [86/100], Loss while training: 1.5255, MSE while Testing: 0.5125\n",
            "Epoch [87/100], Loss while training: 1.5270, MSE while Testing: 0.5136\n",
            "Epoch [88/100], Loss while training: 1.5269, MSE while Testing: 0.5140\n",
            "Epoch [89/100], Loss while training: 1.5224, MSE while Testing: 0.5160\n",
            "Epoch [90/100], Loss while training: 1.5253, MSE while Testing: 0.5193\n",
            "Epoch [91/100], Loss while training: 1.5244, MSE while Testing: 0.5144\n",
            "Epoch [92/100], Loss while training: 1.5256, MSE while Testing: 0.5141\n",
            "Epoch [93/100], Loss while training: 1.5247, MSE while Testing: 0.5146\n",
            "Epoch [94/100], Loss while training: 1.5272, MSE while Testing: 0.5175\n",
            "Epoch [95/100], Loss while training: 1.5188, MSE while Testing: 0.5149\n",
            "Epoch [96/100], Loss while training: 1.5228, MSE while Testing: 0.5166\n",
            "Epoch [97/100], Loss while training: 1.5227, MSE while Testing: 0.5158\n",
            "Epoch [98/100], Loss while training: 1.5228, MSE while Testing: 0.5194\n",
            "Epoch [99/100], Loss while training: 1.5201, MSE while Testing: 0.5197\n",
            "Epoch [100/100], Loss while training: 1.5236, MSE while Testing: 0.5177\n",
            "\n",
            " Best MSE among all the epochs which are tested: 0.4966\n"
          ]
        }
      ]
    },
    {
      "cell_type": "markdown",
      "source": [
        "**Test error and training are reducing with time, indicating that the model is training successfully.**"
      ],
      "metadata": {
        "id": "Wv5rWzy45sTI"
      },
      "id": "Wv5rWzy45sTI"
    },
    {
      "cell_type": "markdown",
      "source": [
        "Adjusting the learning rate, hidden size of the network, adding layers, and trying different activation functions and number of layers to achieve the best accuracy.\n"
      ],
      "metadata": {
        "id": "NdhyEDrJ2rWM"
      },
      "id": "NdhyEDrJ2rWM"
    },
    {
      "cell_type": "code",
      "source": [
        "import torch.nn as nn\n",
        "from torch.optim.lr_scheduler import StepLR\n",
        "\n",
        "# Enhanced model using Tanh activation\n",
        "class EnhancedRegressionNet(nn.Module):\n",
        "    def __init__(self, input_features):\n",
        "        super(EnhancedRegressionNet, self).__init__()\n",
        "\n",
        "        self.network = nn.Sequential(\n",
        "            nn.Linear(input_features, 256),\n",
        "            nn.Tanh(),\n",
        "            nn.Dropout(0.5),  # Add dropout for regularization\n",
        "            nn.Linear(256, 128),\n",
        "            nn.Tanh(),\n",
        "            nn.Dropout(0.5),\n",
        "            nn.Linear(128, 64),\n",
        "            nn.Tanh(),\n",
        "            nn.Linear(64, 1)  # Final layer for regression output\n",
        "        )\n",
        "\n",
        "    def forward(self, input_tensor):\n",
        "        return self.network(input_tensor)"
      ],
      "metadata": {
        "id": "B-wYbP2SHYYW"
      },
      "id": "B-wYbP2SHYYW",
      "execution_count": 2129,
      "outputs": []
    },
    {
      "cell_type": "code",
      "source": [
        "model = EnhancedRegressionNet(Total_feature)\n",
        "optimizer = torch.optim.Adam(model.parameters(), lr=0.01)# new lr  rate\n",
        "scheduler = StepLR(optimizer, step_size=10, gamma=0.9)  # Reducing Learning rate every 10 epochs\n",
        "\n",
        "epochs = 100\n",
        "mse_best = float('inf')\n",
        "\n",
        "for current_epoch in range(epochs):\n",
        "\n",
        "    model.train()\n",
        "    ac_loss = 0.0\n",
        "\n",
        "    for data, labels in tr_load:\n",
        "        optimizer.zero_grad()\n",
        "        pred = model(data)\n",
        "        tr_loss = criterion(pred.squeeze(), labels)\n",
        "        tr_loss.backward()\n",
        "        optimizer.step()\n",
        "        ac_loss += tr_loss.item() * data.size(0)\n",
        "\n",
        "    avg_tr_loss = ac_loss / len(tr_load.dataset)\n",
        "\n",
        "    model.eval()\n",
        "    entire_tst_loss = 0.0\n",
        "\n",
        "    with torch.no_grad():\n",
        "        for data, labels in ts_load:\n",
        "            pred = model(data)\n",
        "            eval_loss = criterion(pred.squeeze(), labels)\n",
        "            entire_tst_loss += eval_loss.item() * data.size(0)\n",
        "\n",
        "    avg_test_loss = entire_tst_loss / len(ts_load.dataset)\n",
        "\n",
        "    if avg_test_loss < mse_best:\n",
        "        mse_best = avg_test_loss\n",
        "\n",
        "    print(f\"Epoch [{current_epoch+1}/{epochs}], Training Loss: {avg_tr_loss:.4f}, Testing MSE: {avg_test_loss:.4f}\")\n",
        "\n",
        "    scheduler.step()  # Adjust the learning rate based on the scheduler\n",
        "\n",
        "print(f\"\\n Best MSE among all the epochs which are tested: {mse_best:.4f}\")"
      ],
      "metadata": {
        "colab": {
          "base_uri": "https://localhost:8080/"
        },
        "id": "aD0sijWeGMBl",
        "outputId": "8df2eb9e-1583-4a69-e2e9-b9149facbcb6"
      },
      "id": "aD0sijWeGMBl",
      "execution_count": 2130,
      "outputs": [
        {
          "output_type": "stream",
          "name": "stdout",
          "text": [
            "Epoch [1/100], Training Loss: 2.4302, Testing MSE: 0.6252\n",
            "Epoch [2/100], Training Loss: 1.8970, Testing MSE: 0.5475\n",
            "Epoch [3/100], Training Loss: 1.7868, Testing MSE: 0.5488\n",
            "Epoch [4/100], Training Loss: 1.7831, Testing MSE: 0.5561\n",
            "Epoch [5/100], Training Loss: 1.7436, Testing MSE: 0.5780\n",
            "Epoch [6/100], Training Loss: 1.7520, Testing MSE: 0.5753\n",
            "Epoch [7/100], Training Loss: 1.6709, Testing MSE: 0.5699\n",
            "Epoch [8/100], Training Loss: 1.6534, Testing MSE: 0.5734\n",
            "Epoch [9/100], Training Loss: 1.6851, Testing MSE: 0.5530\n",
            "Epoch [10/100], Training Loss: 1.6818, Testing MSE: 0.5478\n",
            "Epoch [11/100], Training Loss: 1.7135, Testing MSE: 0.5496\n",
            "Epoch [12/100], Training Loss: 1.6560, Testing MSE: 0.5601\n",
            "Epoch [13/100], Training Loss: 1.6707, Testing MSE: 0.5734\n",
            "Epoch [14/100], Training Loss: 1.6749, Testing MSE: 0.5491\n",
            "Epoch [15/100], Training Loss: 1.6519, Testing MSE: 0.5488\n",
            "Epoch [16/100], Training Loss: 1.6692, Testing MSE: 0.5504\n",
            "Epoch [17/100], Training Loss: 1.6963, Testing MSE: 0.5554\n",
            "Epoch [18/100], Training Loss: 1.6693, Testing MSE: 0.5511\n",
            "Epoch [19/100], Training Loss: 1.6647, Testing MSE: 0.5479\n",
            "Epoch [20/100], Training Loss: 1.6547, Testing MSE: 0.5510\n",
            "Epoch [21/100], Training Loss: 1.6579, Testing MSE: 0.5475\n",
            "Epoch [22/100], Training Loss: 1.6544, Testing MSE: 0.5497\n",
            "Epoch [23/100], Training Loss: 1.6733, Testing MSE: 0.5679\n",
            "Epoch [24/100], Training Loss: 1.6848, Testing MSE: 0.5505\n",
            "Epoch [25/100], Training Loss: 1.6714, Testing MSE: 0.5509\n",
            "Epoch [26/100], Training Loss: 1.6562, Testing MSE: 0.5477\n",
            "Epoch [27/100], Training Loss: 1.6880, Testing MSE: 0.5490\n",
            "Epoch [28/100], Training Loss: 1.6774, Testing MSE: 0.5577\n",
            "Epoch [29/100], Training Loss: 1.6856, Testing MSE: 0.5544\n",
            "Epoch [30/100], Training Loss: 1.7005, Testing MSE: 0.5598\n",
            "Epoch [31/100], Training Loss: 1.7674, Testing MSE: 0.5479\n",
            "Epoch [32/100], Training Loss: 1.6859, Testing MSE: 0.5474\n",
            "Epoch [33/100], Training Loss: 1.6566, Testing MSE: 0.5493\n",
            "Epoch [34/100], Training Loss: 1.7182, Testing MSE: 0.5526\n",
            "Epoch [35/100], Training Loss: 1.7539, Testing MSE: 0.5692\n",
            "Epoch [36/100], Training Loss: 1.6917, Testing MSE: 0.6326\n",
            "Epoch [37/100], Training Loss: 1.7951, Testing MSE: 0.5549\n",
            "Epoch [38/100], Training Loss: 1.6887, Testing MSE: 0.5617\n",
            "Epoch [39/100], Training Loss: 1.6434, Testing MSE: 0.5562\n",
            "Epoch [40/100], Training Loss: 1.7055, Testing MSE: 0.5536\n",
            "Epoch [41/100], Training Loss: 1.7322, Testing MSE: 0.5688\n",
            "Epoch [42/100], Training Loss: 1.7416, Testing MSE: 0.5930\n",
            "Epoch [43/100], Training Loss: 1.7506, Testing MSE: 0.5761\n",
            "Epoch [44/100], Training Loss: 1.6423, Testing MSE: 0.5913\n",
            "Epoch [45/100], Training Loss: 1.6781, Testing MSE: 0.5540\n",
            "Epoch [46/100], Training Loss: 1.7387, Testing MSE: 0.5502\n",
            "Epoch [47/100], Training Loss: 1.6951, Testing MSE: 0.5756\n",
            "Epoch [48/100], Training Loss: 1.6379, Testing MSE: 0.5594\n",
            "Epoch [49/100], Training Loss: 1.6755, Testing MSE: 0.5478\n",
            "Epoch [50/100], Training Loss: 1.6779, Testing MSE: 0.5536\n",
            "Epoch [51/100], Training Loss: 1.6682, Testing MSE: 0.5520\n",
            "Epoch [52/100], Training Loss: 1.6626, Testing MSE: 0.5477\n",
            "Epoch [53/100], Training Loss: 1.6620, Testing MSE: 0.5475\n",
            "Epoch [54/100], Training Loss: 1.6679, Testing MSE: 0.5569\n",
            "Epoch [55/100], Training Loss: 1.6542, Testing MSE: 0.5600\n",
            "Epoch [56/100], Training Loss: 1.7037, Testing MSE: 0.5573\n",
            "Epoch [57/100], Training Loss: 1.6440, Testing MSE: 0.5903\n",
            "Epoch [58/100], Training Loss: 1.6820, Testing MSE: 0.5556\n",
            "Epoch [59/100], Training Loss: 1.6659, Testing MSE: 0.5479\n",
            "Epoch [60/100], Training Loss: 1.7089, Testing MSE: 0.5529\n",
            "Epoch [61/100], Training Loss: 1.6730, Testing MSE: 0.5583\n",
            "Epoch [62/100], Training Loss: 1.7014, Testing MSE: 0.5672\n",
            "Epoch [63/100], Training Loss: 1.6422, Testing MSE: 0.5795\n",
            "Epoch [64/100], Training Loss: 1.6486, Testing MSE: 0.5582\n",
            "Epoch [65/100], Training Loss: 1.6616, Testing MSE: 0.5489\n",
            "Epoch [66/100], Training Loss: 1.6523, Testing MSE: 0.5474\n",
            "Epoch [67/100], Training Loss: 1.6597, Testing MSE: 0.5492\n",
            "Epoch [68/100], Training Loss: 1.6659, Testing MSE: 0.5492\n",
            "Epoch [69/100], Training Loss: 1.6635, Testing MSE: 0.5591\n",
            "Epoch [70/100], Training Loss: 1.6808, Testing MSE: 0.5487\n",
            "Epoch [71/100], Training Loss: 1.6697, Testing MSE: 0.5488\n",
            "Epoch [72/100], Training Loss: 1.6660, Testing MSE: 0.5562\n",
            "Epoch [73/100], Training Loss: 1.6571, Testing MSE: 0.5528\n",
            "Epoch [74/100], Training Loss: 1.6647, Testing MSE: 0.5478\n",
            "Epoch [75/100], Training Loss: 1.6491, Testing MSE: 0.5510\n",
            "Epoch [76/100], Training Loss: 1.6588, Testing MSE: 0.5576\n",
            "Epoch [77/100], Training Loss: 1.6635, Testing MSE: 0.5485\n",
            "Epoch [78/100], Training Loss: 1.6597, Testing MSE: 0.5477\n",
            "Epoch [79/100], Training Loss: 1.6605, Testing MSE: 0.5527\n",
            "Epoch [80/100], Training Loss: 1.6656, Testing MSE: 0.5485\n",
            "Epoch [81/100], Training Loss: 1.6493, Testing MSE: 0.5529\n",
            "Epoch [82/100], Training Loss: 1.6545, Testing MSE: 0.5508\n",
            "Epoch [83/100], Training Loss: 1.6763, Testing MSE: 0.5481\n",
            "Epoch [84/100], Training Loss: 1.6713, Testing MSE: 0.5483\n",
            "Epoch [85/100], Training Loss: 1.6712, Testing MSE: 0.5482\n",
            "Epoch [86/100], Training Loss: 1.7014, Testing MSE: 0.5667\n",
            "Epoch [87/100], Training Loss: 1.6773, Testing MSE: 0.5733\n",
            "Epoch [88/100], Training Loss: 1.6597, Testing MSE: 0.5586\n",
            "Epoch [89/100], Training Loss: 1.6643, Testing MSE: 0.5489\n",
            "Epoch [90/100], Training Loss: 1.6629, Testing MSE: 0.5504\n",
            "Epoch [91/100], Training Loss: 1.6856, Testing MSE: 0.5598\n",
            "Epoch [92/100], Training Loss: 1.6777, Testing MSE: 0.5704\n",
            "Epoch [93/100], Training Loss: 1.6537, Testing MSE: 0.5559\n",
            "Epoch [94/100], Training Loss: 1.6693, Testing MSE: 0.5531\n",
            "Epoch [95/100], Training Loss: 1.6661, Testing MSE: 0.5475\n",
            "Epoch [96/100], Training Loss: 1.6504, Testing MSE: 0.5534\n",
            "Epoch [97/100], Training Loss: 1.6559, Testing MSE: 0.5484\n",
            "Epoch [98/100], Training Loss: 1.6611, Testing MSE: 0.5483\n",
            "Epoch [99/100], Training Loss: 1.6793, Testing MSE: 0.5568\n",
            "Epoch [100/100], Training Loss: 1.6792, Testing MSE: 0.5659\n",
            "\n",
            " Best MSE among all the epochs which are tested: 0.5474\n"
          ]
        }
      ]
    },
    {
      "cell_type": "markdown",
      "source": [
        "It gives the best accuracy as error decreases over the time while keeping learning rate as 0.001, ativation function as sigmoid, and adding layer to 256 so first it was comming good accuracy and after when I tried different activation function, learning rate. The MSE increases so first it was comming good accuracy."
      ],
      "metadata": {
        "id": "ObXO-bVk6wRc"
      },
      "id": "ObXO-bVk6wRc"
    },
    {
      "cell_type": "markdown",
      "id": "86e3fc70-c6ce-4589-9930-128951290e8d",
      "metadata": {
        "id": "86e3fc70-c6ce-4589-9930-128951290e8d"
      },
      "source": [
        "## Task 4\n",
        "\n",
        "In this task, you will try to predict the number of crime victims as a **class number**. Therefore the machine learning problem is a **classification** problem.\n",
        "\n",
        "* Repeat all the steps in task 3. Specifically, pay attention to the differences with regression.\n",
        "* How would you find the number of classes on the output data?\n",
        "* How is the architecture different?\n",
        "* How is the loss function different?\n",
        "* Calculate the Accuracy for test data as the number of correct classified outputs divided by the total number of test data in each epoch. Report it at the end of each epoch\n",
        "* Try a few variations of learning rate, hidden dimensions, layers, etc. What is the best accuracy that you can get?"
      ]
    },
    {
      "cell_type": "markdown",
      "source": [
        "**Q1) Repeat all the steps in task 3. Specifically, pay attention to the differences with regression.**\n",
        "\n"
      ],
      "metadata": {
        "id": "FsDmwIUB9DLp"
      },
      "id": "FsDmwIUB9DLp"
    },
    {
      "cell_type": "code",
      "source": [
        "# Mapping VictimCount to contiguous integers\n",
        "unique_labels = df['VictimCount'].unique()\n",
        "label_mapping = {label: i for i, label in enumerate(sorted(unique_labels))}\n",
        "df['MappedVictimCount'] = df['VictimCount'].map(label_mapping)\n"
      ],
      "metadata": {
        "id": "NsYD47jjm-BP"
      },
      "id": "NsYD47jjm-BP",
      "execution_count": 2131,
      "outputs": []
    },
    {
      "cell_type": "code",
      "source": [
        "from sklearn.model_selection import train_test_split\n",
        "from torch.utils.data import DataLoader, TensorDataset\n",
        "\n",
        "# Selecting the features and the target\n",
        "X = df.drop(columns=['MappedVictimCount', 'VictimCount']).values\n",
        "y = df['MappedVictimCount'].values\n",
        "\n",
        "# Splitting the data\n",
        "X_train, X_test, y_train, y_test = train_test_split(X, y, test_size=0.2, random_state=42)\n",
        "\n",
        "# Creating DataLoaders\n",
        "trdata = TensorDataset(torch.tensor(X_train, dtype=torch.float32), torch.tensor(y_train, dtype=torch.int64))\n",
        "tsdata = TensorDataset(torch.tensor(X_test, dtype=torch.float32), torch.tensor(y_test, dtype=torch.int64))\n",
        "\n",
        "tr_load = DataLoader(trdata, batch_size=32, shuffle=True)\n",
        "ts_load = DataLoader(tsdata, batch_size=32)\n"
      ],
      "metadata": {
        "id": "eZV8zfuFuJWT"
      },
      "id": "eZV8zfuFuJWT",
      "execution_count": 2132,
      "outputs": []
    },
    {
      "cell_type": "code",
      "source": [
        "import torch.nn as nn\n",
        "\n",
        "class VictimClass(nn.Module):\n",
        "    def __init__(self, feature_count, num_classes):\n",
        "        super(VictimClass, self).__init__()\n",
        "\n",
        "        self.network = nn.Sequential(\n",
        "            nn.Linear(feature_count, 128),\n",
        "            nn.ReLU(),\n",
        "            nn.Linear(128, 64),\n",
        "            nn.ReLU(),\n",
        "            nn.Linear(64, 32),\n",
        "            nn.ReLU(),\n",
        "            nn.Linear(32, num_classes)  # Final layer with number of classes\n",
        "        )\n",
        "\n",
        "    def forward(self, input_tensor):\n",
        "        \"\"\"Drive input through the network layers.\"\"\"\n",
        "        return self.network(input_tensor)"
      ],
      "metadata": {
        "id": "3_FeBbpoVw-e"
      },
      "id": "3_FeBbpoVw-e",
      "execution_count": 2133,
      "outputs": []
    },
    {
      "cell_type": "code",
      "source": [
        "all_labels = torch.cat([torch.Tensor(trdf.iloc[:, -1].values), torch.Tensor(tsdf.iloc[:, -1].values)]) # setting all labels\n",
        "num_classes = len(torch.unique(all_labels))\n"
      ],
      "metadata": {
        "id": "o5fTTkjHXAxi"
      },
      "id": "o5fTTkjHXAxi",
      "execution_count": 2134,
      "outputs": []
    },
    {
      "cell_type": "code",
      "source": [
        "num_classes = len(torch.unique(all_labels))\n",
        "\n",
        "model = VictimClass(Total_feature, num_classes)\n",
        "\n",
        "criterion = nn.CrossEntropyLoss()  # Loss for classification\n",
        "optimizer = torch.optim.Adam(model.parameters(), lr=0.001) # setting learning rate"
      ],
      "metadata": {
        "id": "XLexYKJyV_Kg"
      },
      "id": "XLexYKJyV_Kg",
      "execution_count": 2135,
      "outputs": []
    },
    {
      "cell_type": "code",
      "source": [
        "# Training cycle\n",
        "epochs = 100\n",
        "best_accuracy = 0.0\n",
        "\n",
        "for current_epoch in range(epochs):\n",
        "\n",
        "    model.train()  # Setting the model to train mode\n",
        "    ac_loss = 0.0\n",
        "\n",
        "    for data, labels in tr_load:\n",
        "        optimizer.zero_grad()  # Gradient reset\n",
        "\n",
        "        pred = model(data)\n",
        "        tr_loss = criterion(pred, labels)\n",
        "\n",
        "        # Backpropagation\n",
        "        tr_loss.backward()\n",
        "        optimizer.step()\n",
        "\n",
        "        ac_loss += tr_loss.item() * data.size(0)\n",
        "\n",
        "    avg_tr_loss = ac_loss / len(tr_load.dataset)  # Average training loss\n",
        "\n",
        "    # Evaluate on test data\n",
        "    model.eval()\n",
        "    correct_predictions = 0\n",
        "    total_predictions = 0\n",
        "\n",
        "    with torch.no_grad():  # Avoid unnecessary computations\n",
        "        for data, labels in ts_load:\n",
        "            pred = model(data)\n",
        "            _, predicted_labels = torch.max(pred, 1)\n",
        "            correct_predictions += (predicted_labels == labels).sum().item()\n",
        "            total_predictions += labels.size(0)\n",
        "\n",
        "    accuracy = correct_predictions / total_predictions\n",
        "    best_accuracy = max(best_accuracy, accuracy)\n",
        "\n",
        "    print(f\"Epoch [{current_epoch+1}/{epochs}], Loss while training: {avg_tr_loss:.4f}, Accuracy: {accuracy * 100:.2f}%\")\n",
        "\n",
        "print(f\"\\n Best Accuracy among all epochs in the data: {best_accuracy * 100:.2f}%\")"
      ],
      "metadata": {
        "colab": {
          "base_uri": "https://localhost:8080/"
        },
        "id": "wRhdnmjKWkuf",
        "outputId": "a056847d-a889-4fc1-85e7-0ee2b56fb179"
      },
      "id": "wRhdnmjKWkuf",
      "execution_count": 2136,
      "outputs": [
        {
          "output_type": "stream",
          "name": "stdout",
          "text": [
            "Epoch [1/100], Loss while training: 2.1787, Accuracy: 30.91%\n",
            "Epoch [2/100], Loss while training: 1.3569, Accuracy: 54.55%\n",
            "Epoch [3/100], Loss while training: 1.2190, Accuracy: 54.55%\n",
            "Epoch [4/100], Loss while training: 1.1461, Accuracy: 54.55%\n",
            "Epoch [5/100], Loss while training: 1.1221, Accuracy: 54.55%\n",
            "Epoch [6/100], Loss while training: 1.1131, Accuracy: 54.55%\n",
            "Epoch [7/100], Loss while training: 1.1019, Accuracy: 54.55%\n",
            "Epoch [8/100], Loss while training: 1.0994, Accuracy: 54.55%\n",
            "Epoch [9/100], Loss while training: 1.0987, Accuracy: 54.55%\n",
            "Epoch [10/100], Loss while training: 1.0947, Accuracy: 54.55%\n",
            "Epoch [11/100], Loss while training: 1.0934, Accuracy: 54.55%\n",
            "Epoch [12/100], Loss while training: 1.0918, Accuracy: 54.55%\n",
            "Epoch [13/100], Loss while training: 1.0887, Accuracy: 54.55%\n",
            "Epoch [14/100], Loss while training: 1.0897, Accuracy: 54.55%\n",
            "Epoch [15/100], Loss while training: 1.0826, Accuracy: 54.55%\n",
            "Epoch [16/100], Loss while training: 1.0850, Accuracy: 54.55%\n",
            "Epoch [17/100], Loss while training: 1.0808, Accuracy: 54.55%\n",
            "Epoch [18/100], Loss while training: 1.0841, Accuracy: 54.55%\n",
            "Epoch [19/100], Loss while training: 1.0802, Accuracy: 54.55%\n",
            "Epoch [20/100], Loss while training: 1.0874, Accuracy: 54.55%\n",
            "Epoch [21/100], Loss while training: 1.0789, Accuracy: 54.55%\n",
            "Epoch [22/100], Loss while training: 1.0872, Accuracy: 54.55%\n",
            "Epoch [23/100], Loss while training: 1.0938, Accuracy: 54.55%\n",
            "Epoch [24/100], Loss while training: 1.0796, Accuracy: 54.55%\n",
            "Epoch [25/100], Loss while training: 1.0792, Accuracy: 54.55%\n",
            "Epoch [26/100], Loss while training: 1.0870, Accuracy: 54.55%\n",
            "Epoch [27/100], Loss while training: 1.0754, Accuracy: 54.55%\n",
            "Epoch [28/100], Loss while training: 1.0765, Accuracy: 54.55%\n",
            "Epoch [29/100], Loss while training: 1.0745, Accuracy: 54.55%\n",
            "Epoch [30/100], Loss while training: 1.0780, Accuracy: 54.55%\n",
            "Epoch [31/100], Loss while training: 1.0821, Accuracy: 54.55%\n",
            "Epoch [32/100], Loss while training: 1.0993, Accuracy: 54.55%\n",
            "Epoch [33/100], Loss while training: 1.0709, Accuracy: 54.55%\n",
            "Epoch [34/100], Loss while training: 1.0945, Accuracy: 54.55%\n",
            "Epoch [35/100], Loss while training: 1.0828, Accuracy: 54.55%\n",
            "Epoch [36/100], Loss while training: 1.0749, Accuracy: 54.55%\n",
            "Epoch [37/100], Loss while training: 1.0721, Accuracy: 54.55%\n",
            "Epoch [38/100], Loss while training: 1.0703, Accuracy: 54.55%\n",
            "Epoch [39/100], Loss while training: 1.0639, Accuracy: 54.55%\n",
            "Epoch [40/100], Loss while training: 1.0692, Accuracy: 54.55%\n",
            "Epoch [41/100], Loss while training: 1.0653, Accuracy: 54.55%\n",
            "Epoch [42/100], Loss while training: 1.0663, Accuracy: 54.55%\n",
            "Epoch [43/100], Loss while training: 1.0671, Accuracy: 54.55%\n",
            "Epoch [44/100], Loss while training: 1.0684, Accuracy: 54.55%\n",
            "Epoch [45/100], Loss while training: 1.0602, Accuracy: 54.55%\n",
            "Epoch [46/100], Loss while training: 1.0673, Accuracy: 54.55%\n",
            "Epoch [47/100], Loss while training: 1.0648, Accuracy: 54.55%\n",
            "Epoch [48/100], Loss while training: 1.0653, Accuracy: 54.55%\n",
            "Epoch [49/100], Loss while training: 1.0578, Accuracy: 54.55%\n",
            "Epoch [50/100], Loss while training: 1.0662, Accuracy: 54.55%\n",
            "Epoch [51/100], Loss while training: 1.0743, Accuracy: 54.55%\n",
            "Epoch [52/100], Loss while training: 1.0697, Accuracy: 54.55%\n",
            "Epoch [53/100], Loss while training: 1.0554, Accuracy: 56.36%\n",
            "Epoch [54/100], Loss while training: 1.0562, Accuracy: 54.55%\n",
            "Epoch [55/100], Loss while training: 1.0581, Accuracy: 54.55%\n",
            "Epoch [56/100], Loss while training: 1.0503, Accuracy: 54.55%\n",
            "Epoch [57/100], Loss while training: 1.0522, Accuracy: 54.55%\n",
            "Epoch [58/100], Loss while training: 1.0519, Accuracy: 58.18%\n",
            "Epoch [59/100], Loss while training: 1.0495, Accuracy: 54.55%\n",
            "Epoch [60/100], Loss while training: 1.0839, Accuracy: 60.00%\n",
            "Epoch [61/100], Loss while training: 1.0886, Accuracy: 54.55%\n",
            "Epoch [62/100], Loss while training: 1.0660, Accuracy: 54.55%\n",
            "Epoch [63/100], Loss while training: 1.0862, Accuracy: 30.91%\n",
            "Epoch [64/100], Loss while training: 1.0393, Accuracy: 54.55%\n",
            "Epoch [65/100], Loss while training: 1.0472, Accuracy: 58.18%\n",
            "Epoch [66/100], Loss while training: 1.0542, Accuracy: 54.55%\n",
            "Epoch [67/100], Loss while training: 1.0448, Accuracy: 56.36%\n",
            "Epoch [68/100], Loss while training: 1.0392, Accuracy: 54.55%\n",
            "Epoch [69/100], Loss while training: 1.0337, Accuracy: 54.55%\n",
            "Epoch [70/100], Loss while training: 1.0453, Accuracy: 54.55%\n",
            "Epoch [71/100], Loss while training: 1.0496, Accuracy: 54.55%\n",
            "Epoch [72/100], Loss while training: 1.0393, Accuracy: 50.91%\n",
            "Epoch [73/100], Loss while training: 1.0390, Accuracy: 54.55%\n",
            "Epoch [74/100], Loss while training: 1.0354, Accuracy: 47.27%\n",
            "Epoch [75/100], Loss while training: 1.0308, Accuracy: 54.55%\n",
            "Epoch [76/100], Loss while training: 1.0351, Accuracy: 50.91%\n",
            "Epoch [77/100], Loss while training: 1.0354, Accuracy: 54.55%\n",
            "Epoch [78/100], Loss while training: 1.0219, Accuracy: 49.09%\n",
            "Epoch [79/100], Loss while training: 1.0228, Accuracy: 60.00%\n",
            "Epoch [80/100], Loss while training: 1.0219, Accuracy: 56.36%\n",
            "Epoch [81/100], Loss while training: 1.0258, Accuracy: 49.09%\n",
            "Epoch [82/100], Loss while training: 1.0206, Accuracy: 60.00%\n",
            "Epoch [83/100], Loss while training: 1.0153, Accuracy: 60.00%\n",
            "Epoch [84/100], Loss while training: 1.0247, Accuracy: 50.91%\n",
            "Epoch [85/100], Loss while training: 1.0285, Accuracy: 56.36%\n",
            "Epoch [86/100], Loss while training: 1.0404, Accuracy: 49.09%\n",
            "Epoch [87/100], Loss while training: 1.0111, Accuracy: 56.36%\n",
            "Epoch [88/100], Loss while training: 1.0100, Accuracy: 50.91%\n",
            "Epoch [89/100], Loss while training: 1.0082, Accuracy: 56.36%\n",
            "Epoch [90/100], Loss while training: 1.0032, Accuracy: 49.09%\n",
            "Epoch [91/100], Loss while training: 1.0064, Accuracy: 54.55%\n",
            "Epoch [92/100], Loss while training: 1.0041, Accuracy: 49.09%\n",
            "Epoch [93/100], Loss while training: 1.0208, Accuracy: 56.36%\n",
            "Epoch [94/100], Loss while training: 1.0145, Accuracy: 50.91%\n",
            "Epoch [95/100], Loss while training: 1.0078, Accuracy: 52.73%\n",
            "Epoch [96/100], Loss while training: 0.9942, Accuracy: 61.82%\n",
            "Epoch [97/100], Loss while training: 1.0016, Accuracy: 61.82%\n",
            "Epoch [98/100], Loss while training: 0.9971, Accuracy: 49.09%\n",
            "Epoch [99/100], Loss while training: 1.0047, Accuracy: 54.55%\n",
            "Epoch [100/100], Loss while training: 0.9992, Accuracy: 50.91%\n",
            "\n",
            " Best Accuracy among all epochs in the data: 61.82%\n"
          ]
        }
      ]
    },
    {
      "cell_type": "markdown",
      "source": [
        "**Q2) find the number of classes on the output data**\n"
      ],
      "metadata": {
        "id": "57YRrjQs0ur0"
      },
      "id": "57YRrjQs0ur0"
    },
    {
      "cell_type": "code",
      "source": [
        "num_classes = df['VictimCount'].nunique()\n"
      ],
      "metadata": {
        "id": "G65mTUyD09rZ"
      },
      "id": "G65mTUyD09rZ",
      "execution_count": 2137,
      "outputs": []
    },
    {
      "cell_type": "markdown",
      "source": [
        "**Q3) How is the architecture different?**\n",
        "\n",
        "The output size of the last layer in a classification task should match the total number of classes. In the last layer, a softmax activation function is usually used when working with more than two classes. Nevertheless, softmax is already included in the cross-entropy loss function in PyTorch, thus the design does not need to explicitly include it. Making ensuring the last layer has as many neurons as there are classes in it is crucial."
      ],
      "metadata": {
        "id": "Mgr83soq1N22"
      },
      "id": "Mgr83soq1N22"
    },
    {
      "cell_type": "code",
      "source": [
        "import torch.nn as nn\n",
        "\n",
        "class VictimClass(nn.Module):\n",
        "    def __init__(self, feature_count, num_classes):\n",
        "        super(VictimClass, self).__init__()\n",
        "\n",
        "        self.network = nn.Sequential(\n",
        "            nn.Linear(feature_count, 128),\n",
        "            nn.ReLU(),\n",
        "            nn.Linear(128, 64),\n",
        "            nn.ReLU(),\n",
        "            nn.Linear(64, 32),\n",
        "            nn.ReLU(),\n",
        "            nn.Linear(32, num_classes)  # Final layer with number of classes\n",
        "        )\n",
        "\n",
        "    def forward(self, input_tensor):\n",
        "        \"\"\"Drive input through the network layers.\"\"\"\n",
        "        return self.network(input_tensor)"
      ],
      "metadata": {
        "id": "lHJ1ChVQ1QEj"
      },
      "id": "lHJ1ChVQ1QEj",
      "execution_count": 2138,
      "outputs": []
    },
    {
      "cell_type": "markdown",
      "source": [
        "**Q4) How is the loss function different?**\n",
        "\n",
        "Our usual method for multi-class classification is the Cross-Entropy Loss. In a single class, this loss function combines Log Softmax and Negative Log Likelihood Loss.\n"
      ],
      "metadata": {
        "id": "JGCcPgR714QV"
      },
      "id": "JGCcPgR714QV"
    },
    {
      "cell_type": "code",
      "source": [
        "criterion = nn.CrossEntropyLoss()\n"
      ],
      "metadata": {
        "id": "s-pTddlS1Eg_"
      },
      "id": "s-pTddlS1Eg_",
      "execution_count": 2139,
      "outputs": []
    },
    {
      "cell_type": "markdown",
      "source": [
        "**Q5) Calculate the Accuracy for test data as the number of correct classified outputs divided by the total number of test data in each epoch. Report it at the end of each epoch**"
      ],
      "metadata": {
        "id": "hPX-01rB2fQN"
      },
      "id": "hPX-01rB2fQN"
    },
    {
      "cell_type": "code",
      "source": [
        "# Training cycle\n",
        "epochs = 100\n",
        "best_accuracy = 0.0\n",
        "\n",
        "for current_epoch in range(epochs):\n",
        "\n",
        "    model.train()  # Setting the model to train mode\n",
        "    ac_loss = 0.0\n",
        "\n",
        "    for data, labels in tr_load:\n",
        "        optimizer.zero_grad()  # Gradient reset\n",
        "\n",
        "        pred = model(data)\n",
        "        tr_loss = criterion(pred, labels)\n",
        "\n",
        "        # Backpropagation\n",
        "        tr_loss.backward()\n",
        "        optimizer.step()\n",
        "\n",
        "        ac_loss += tr_loss.item() * data.size(0)\n",
        "\n",
        "    avg_tr_loss = ac_loss / len(tr_load.dataset)  # Average training loss\n",
        "\n",
        "    # Evaluate on test data\n",
        "    model.eval()\n",
        "    correct_predictions = 0\n",
        "    total_predictions = 0\n",
        "\n",
        "    with torch.no_grad():  # Avoid unnecessary computations\n",
        "        for data, labels in ts_load:\n",
        "            pred = model(data)\n",
        "            _, predicted_labels = torch.max(pred, 1)\n",
        "            correct_predictions += (predicted_labels == labels).sum().item()\n",
        "            total_predictions += labels.size(0)\n",
        "\n",
        "    accuracy = correct_predictions / total_predictions\n",
        "    best_accuracy = max(best_accuracy, accuracy)\n",
        "\n",
        "    print(f\"Epoch [{current_epoch+1}/{epochs}], Loss while training: {avg_tr_loss:.4f}, Accuracy: {accuracy * 100:.2f}%\")\n",
        "\n",
        "print(f\"\\n Best Accuracy among all epochs in the data: {best_accuracy * 100:.2f}%\")"
      ],
      "metadata": {
        "colab": {
          "base_uri": "https://localhost:8080/"
        },
        "id": "OcNO63pi2L9i",
        "outputId": "9eed2341-f1f2-4614-9a6a-a54e57ee53f6"
      },
      "id": "OcNO63pi2L9i",
      "execution_count": 2140,
      "outputs": [
        {
          "output_type": "stream",
          "name": "stdout",
          "text": [
            "Epoch [1/100], Loss while training: 0.9990, Accuracy: 54.55%\n",
            "Epoch [2/100], Loss while training: 0.9920, Accuracy: 49.09%\n",
            "Epoch [3/100], Loss while training: 0.9967, Accuracy: 56.36%\n",
            "Epoch [4/100], Loss while training: 1.0359, Accuracy: 38.18%\n",
            "Epoch [5/100], Loss while training: 0.9986, Accuracy: 56.36%\n",
            "Epoch [6/100], Loss while training: 0.9904, Accuracy: 45.45%\n",
            "Epoch [7/100], Loss while training: 1.0071, Accuracy: 50.91%\n",
            "Epoch [8/100], Loss while training: 1.0229, Accuracy: 56.36%\n",
            "Epoch [9/100], Loss while training: 1.0210, Accuracy: 45.45%\n",
            "Epoch [10/100], Loss while training: 1.0447, Accuracy: 60.00%\n",
            "Epoch [11/100], Loss while training: 1.0641, Accuracy: 45.45%\n",
            "Epoch [12/100], Loss while training: 1.0105, Accuracy: 54.55%\n",
            "Epoch [13/100], Loss while training: 1.0091, Accuracy: 45.45%\n",
            "Epoch [14/100], Loss while training: 1.0038, Accuracy: 61.82%\n",
            "Epoch [15/100], Loss while training: 0.9924, Accuracy: 61.82%\n",
            "Epoch [16/100], Loss while training: 1.0058, Accuracy: 47.27%\n",
            "Epoch [17/100], Loss while training: 1.0072, Accuracy: 58.18%\n",
            "Epoch [18/100], Loss while training: 1.0030, Accuracy: 45.45%\n",
            "Epoch [19/100], Loss while training: 0.9883, Accuracy: 58.18%\n",
            "Epoch [20/100], Loss while training: 0.9892, Accuracy: 47.27%\n",
            "Epoch [21/100], Loss while training: 0.9862, Accuracy: 47.27%\n",
            "Epoch [22/100], Loss while training: 0.9822, Accuracy: 49.09%\n",
            "Epoch [23/100], Loss while training: 0.9840, Accuracy: 49.09%\n",
            "Epoch [24/100], Loss while training: 0.9779, Accuracy: 49.09%\n",
            "Epoch [25/100], Loss while training: 0.9750, Accuracy: 49.09%\n",
            "Epoch [26/100], Loss while training: 0.9702, Accuracy: 49.09%\n",
            "Epoch [27/100], Loss while training: 0.9859, Accuracy: 49.09%\n",
            "Epoch [28/100], Loss while training: 0.9727, Accuracy: 50.91%\n",
            "Epoch [29/100], Loss while training: 0.9782, Accuracy: 49.09%\n",
            "Epoch [30/100], Loss while training: 0.9862, Accuracy: 49.09%\n",
            "Epoch [31/100], Loss while training: 0.9762, Accuracy: 50.91%\n",
            "Epoch [32/100], Loss while training: 0.9768, Accuracy: 49.09%\n",
            "Epoch [33/100], Loss while training: 0.9677, Accuracy: 49.09%\n",
            "Epoch [34/100], Loss while training: 0.9658, Accuracy: 49.09%\n",
            "Epoch [35/100], Loss while training: 0.9654, Accuracy: 49.09%\n",
            "Epoch [36/100], Loss while training: 0.9637, Accuracy: 50.91%\n",
            "Epoch [37/100], Loss while training: 0.9635, Accuracy: 49.09%\n",
            "Epoch [38/100], Loss while training: 0.9657, Accuracy: 49.09%\n",
            "Epoch [39/100], Loss while training: 0.9780, Accuracy: 49.09%\n",
            "Epoch [40/100], Loss while training: 0.9790, Accuracy: 54.55%\n",
            "Epoch [41/100], Loss while training: 0.9755, Accuracy: 43.64%\n",
            "Epoch [42/100], Loss while training: 0.9671, Accuracy: 60.00%\n",
            "Epoch [43/100], Loss while training: 0.9696, Accuracy: 43.64%\n",
            "Epoch [44/100], Loss while training: 0.9704, Accuracy: 60.00%\n",
            "Epoch [45/100], Loss while training: 0.9800, Accuracy: 45.45%\n",
            "Epoch [46/100], Loss while training: 0.9691, Accuracy: 52.73%\n",
            "Epoch [47/100], Loss while training: 0.9557, Accuracy: 49.09%\n",
            "Epoch [48/100], Loss while training: 0.9605, Accuracy: 49.09%\n",
            "Epoch [49/100], Loss while training: 0.9579, Accuracy: 49.09%\n",
            "Epoch [50/100], Loss while training: 0.9636, Accuracy: 49.09%\n",
            "Epoch [51/100], Loss while training: 0.9777, Accuracy: 49.09%\n",
            "Epoch [52/100], Loss while training: 0.9886, Accuracy: 45.45%\n",
            "Epoch [53/100], Loss while training: 0.9814, Accuracy: 61.82%\n",
            "Epoch [54/100], Loss while training: 0.9526, Accuracy: 49.09%\n",
            "Epoch [55/100], Loss while training: 0.9729, Accuracy: 47.27%\n",
            "Epoch [56/100], Loss while training: 0.9545, Accuracy: 49.09%\n",
            "Epoch [57/100], Loss while training: 0.9494, Accuracy: 58.18%\n",
            "Epoch [58/100], Loss while training: 0.9571, Accuracy: 47.27%\n",
            "Epoch [59/100], Loss while training: 0.9457, Accuracy: 49.09%\n",
            "Epoch [60/100], Loss while training: 0.9421, Accuracy: 47.27%\n",
            "Epoch [61/100], Loss while training: 0.9453, Accuracy: 49.09%\n",
            "Epoch [62/100], Loss while training: 0.9527, Accuracy: 49.09%\n",
            "Epoch [63/100], Loss while training: 0.9458, Accuracy: 49.09%\n",
            "Epoch [64/100], Loss while training: 0.9404, Accuracy: 47.27%\n",
            "Epoch [65/100], Loss while training: 0.9537, Accuracy: 60.00%\n",
            "Epoch [66/100], Loss while training: 0.9401, Accuracy: 47.27%\n",
            "Epoch [67/100], Loss while training: 0.9438, Accuracy: 50.91%\n",
            "Epoch [68/100], Loss while training: 0.9614, Accuracy: 49.09%\n",
            "Epoch [69/100], Loss while training: 0.9491, Accuracy: 45.45%\n",
            "Epoch [70/100], Loss while training: 0.9699, Accuracy: 49.09%\n",
            "Epoch [71/100], Loss while training: 0.9337, Accuracy: 49.09%\n",
            "Epoch [72/100], Loss while training: 0.9398, Accuracy: 49.09%\n",
            "Epoch [73/100], Loss while training: 0.9344, Accuracy: 49.09%\n",
            "Epoch [74/100], Loss while training: 0.9423, Accuracy: 50.91%\n",
            "Epoch [75/100], Loss while training: 0.9429, Accuracy: 49.09%\n",
            "Epoch [76/100], Loss while training: 0.9509, Accuracy: 49.09%\n",
            "Epoch [77/100], Loss while training: 0.9620, Accuracy: 47.27%\n",
            "Epoch [78/100], Loss while training: 0.9660, Accuracy: 45.45%\n",
            "Epoch [79/100], Loss while training: 0.9320, Accuracy: 58.18%\n",
            "Epoch [80/100], Loss while training: 0.9439, Accuracy: 45.45%\n",
            "Epoch [81/100], Loss while training: 0.9412, Accuracy: 52.73%\n",
            "Epoch [82/100], Loss while training: 0.9312, Accuracy: 49.09%\n",
            "Epoch [83/100], Loss while training: 0.9405, Accuracy: 49.09%\n",
            "Epoch [84/100], Loss while training: 0.9462, Accuracy: 50.91%\n",
            "Epoch [85/100], Loss while training: 0.9280, Accuracy: 41.82%\n",
            "Epoch [86/100], Loss while training: 0.9370, Accuracy: 56.36%\n",
            "Epoch [87/100], Loss while training: 0.9442, Accuracy: 52.73%\n",
            "Epoch [88/100], Loss while training: 0.9220, Accuracy: 49.09%\n",
            "Epoch [89/100], Loss while training: 0.9209, Accuracy: 47.27%\n",
            "Epoch [90/100], Loss while training: 0.9221, Accuracy: 47.27%\n",
            "Epoch [91/100], Loss while training: 0.9259, Accuracy: 52.73%\n",
            "Epoch [92/100], Loss while training: 0.9464, Accuracy: 40.00%\n",
            "Epoch [93/100], Loss while training: 0.9265, Accuracy: 54.55%\n",
            "Epoch [94/100], Loss while training: 0.9324, Accuracy: 40.00%\n",
            "Epoch [95/100], Loss while training: 0.9422, Accuracy: 47.27%\n",
            "Epoch [96/100], Loss while training: 0.9166, Accuracy: 50.91%\n",
            "Epoch [97/100], Loss while training: 0.9284, Accuracy: 49.09%\n",
            "Epoch [98/100], Loss while training: 0.9205, Accuracy: 50.91%\n",
            "Epoch [99/100], Loss while training: 0.9164, Accuracy: 49.09%\n",
            "Epoch [100/100], Loss while training: 0.9136, Accuracy: 41.82%\n",
            "\n",
            " Best Accuracy among all epochs in the data: 61.82%\n"
          ]
        }
      ]
    },
    {
      "cell_type": "markdown",
      "id": "84d2a304-6197-4cd9-b31e-745f7862f213",
      "metadata": {
        "id": "84d2a304-6197-4cd9-b31e-745f7862f213"
      },
      "source": [
        "## Task 5"
      ]
    },
    {
      "cell_type": "markdown",
      "id": "d6e4ef16-d828-45e5-bd58-1c49fcfecf52",
      "metadata": {
        "id": "d6e4ef16-d828-45e5-bd58-1c49fcfecf52"
      },
      "source": [
        "### Reflect on your results\n",
        "\n",
        "* Write a paragraph about your experience with tasks 3 and 4. How do you compare the results? Which one worked better? Why?\n",
        "* Write a piece of code that finds an example of a  miss-classification. Calculate the probabilities for the output classes and plot them in a bar chart. Also, indicate what is the correct class label."
      ]
    },
    {
      "cell_type": "markdown",
      "source": [
        "**Q1) solution about experience with task 3 and 4 and comparison**\n",
        "\n",
        "In order to anticipate the number of crime victims, we explored regression and classification techniques in tasks 3 and 4. Whereas classification was concerned with predicting different class labels, regression was concerned with forecasting a continuous value.\n",
        "\n",
        "In terms of model performance, the average squared difference between the predicted and actual values was obtained as an MSE (Mean Squared Error) score from the regression task (Task 3). Better performance is indicated by lower MSE values. On the other hand, accuracy—which is defined as the ratio of correctly predicted class labels to all predictions—was used to evaluate the classification task (Task 4).\n",
        "\n",
        "As per my findings, Task 4's classification model demonstrated a greater degree of accuracy in comparison to the same metric of Task 3's regression model. One argument could be that the model can more easily produce accurate predictions since the categorization method breaks down the problem into discrete classes, simplifying the difficulty. However, granularity is lost in this method.\n",
        "\n",
        "In conclusion, the regression approach provides more thorough and continuous predictions than the classification method, even though the former yielded better accuracy scores. The exact use case and the ratio of precision to granularity will determine which option is best."
      ],
      "metadata": {
        "id": "iaF4hMsr74vC"
      },
      "id": "iaF4hMsr74vC"
    },
    {
      "cell_type": "markdown",
      "source": [
        "**Q2)Write a piece of code that finds an example of a miss-classification. Calculate the probabilities for the output classes and plot them in a bar chart. Also, indicate what is the correct class label.**"
      ],
      "metadata": {
        "id": "ARfDGmBj9YxF"
      },
      "id": "ARfDGmBj9YxF"
    },
    {
      "cell_type": "code",
      "source": [
        "import torch\n",
        "import numpy as np\n",
        "import matplotlib.pyplot as plt\n",
        "\n",
        "with torch.no_grad():\n",
        "    correct = 0\n",
        "    total = 0\n",
        "    for inputs, true_labels in ts_load:\n",
        "        logits = model(inputs)\n",
        "        _, predicted = torch.max(logits.data, 1)\n",
        "        total += true_labels.size(0)\n",
        "        correct += (predicted == true_labels).sum().item()\n",
        "\n",
        "    accuracy = correct / total * 100  # accuracy calculation\n",
        "    print(f'Accuracy: {accuracy:.2f}%')\n",
        "\n",
        "    # finding miscalculation\n",
        "    for inputs, true_labels in ts_load:\n",
        "        logits = model(inputs)\n",
        "        probabilities = torch.softmax(logits, dim=1)\n",
        "        predicted_labels = torch.argmax(probabilities, dim=1)\n",
        "        incorrect_indices = (predicted_labels != true_labels).nonzero()\n",
        "\n",
        "        for idx in incorrect_indices:\n",
        "            example_data = inputs[idx].unsqueeze(0)  # getting example\n",
        "            example_true_label = true_labels[idx]\n",
        "            predicted_label = predicted_labels[idx]  # correcting and then predicting label\n",
        "\n",
        "            probabilities_for_example = probabilities[idx, 0:7].squeeze().numpy()  # finding probabilities\n",
        "\n",
        "            # Plotting the bar chart for probabilities\n",
        "            class_indices = np.arange(len(probabilities_for_example))\n",
        "            bar_width = 0.8\n",
        "            plt.bar(class_indices, probabilities_for_example, width=bar_width, align='center', alpha=0.7)\n",
        "            plt.xlabel('Class')\n",
        "            plt.ylabel('Probability')\n",
        "            plt.xticks(class_indices)\n",
        "            plt.title(f'Example {idx.item()}: Predicted as {predicted_label.item()}, Actual: {example_true_label.item()}')\n",
        "            plt.tight_layout()  # layout to appear\n",
        "            plt.show()\n",
        "            break  # Breaking after misclassification\n",
        "        break  # Breaking after batch\n"
      ],
      "metadata": {
        "colab": {
          "base_uri": "https://localhost:8080/",
          "height": 504
        },
        "id": "-BqMo0xzl1e6",
        "outputId": "abb11a50-e679-4d4b-b033-6bfdb2de4170"
      },
      "id": "-BqMo0xzl1e6",
      "execution_count": 2141,
      "outputs": [
        {
          "output_type": "stream",
          "name": "stdout",
          "text": [
            "Accuracy: 41.82%\n"
          ]
        },
        {
          "output_type": "display_data",
          "data": {
            "text/plain": [
              "<Figure size 640x480 with 1 Axes>"
            ],
            "image/png": "[encoded data removed]"
          },
          "metadata": {}
        }
      ]
    },
    {
      "cell_type": "markdown",
      "id": "5b000b0b-fa37-4f8d-8ec7-0a1e6e749424",
      "metadata": {
        "id": "5b000b0b-fa37-4f8d-8ec7-0a1e6e749424"
      },
      "source": [
        "## Task 6: Exploring the patterns in raw data\n",
        "\n",
        "* Plot the crime incidents as a `scatter` plot using the corrdinates. Use the color property of each datapoint to indicate the day of the week. Is there a pattern in the plot?\n",
        "* Now make a new scatter plot and use the color property of each datapoint to indicate the number of persons involved in the incident. Is there a pattern here?\n",
        "* use numpy (or pandas if you like) to sort the number of crimes reported by the day of the week. What days are most frequent?\n"
      ]
    },
    {
      "cell_type": "markdown",
      "source": [
        "**Q1) Plot the crime incidents as a scatter plot using the corrdinates. Use the color property of each datapoint to indicate the day of the week. Is there a pattern in the plot?**"
      ],
      "metadata": {
        "id": "sd882a7xFy2V"
      },
      "id": "sd882a7xFy2V"
    },
    {
      "cell_type": "code",
      "execution_count": 2149,
      "id": "5b396aaf-5d1a-49cd-ae1d-b63af7e561f5",
      "metadata": {
        "colab": {
          "base_uri": "https://localhost:8080/",
          "height": 564
        },
        "id": "5b396aaf-5d1a-49cd-ae1d-b63af7e561f5",
        "outputId": "f9821906-66bc-4b53-ae45-4e64a15a5ac7"
      },
      "outputs": [
        {
          "output_type": "display_data",
          "data": {
            "text/plain": [
              "<Figure size 1000x600 with 1 Axes>"
            ],
            "image/png": "[encoded data removed]"
          },
          "metadata": {}
        }
      ],
      "source": [
        "import matplotlib.pyplot as plt\n",
        "import seaborn as sns\n",
        "\n",
        "# setting up the plotting\n",
        "sns.set_style(\"whitegrid\")\n",
        "\n",
        "plt.figure(figsize=(10, 6))\n",
        "sns.scatterplot(data=df, x=\"X\", y=\"Y\", hue=\"DayOfWeek\", palette=\"tab10\", s=15, alpha=0.6)\n",
        "plt.title(\"crime according to day of week\")\n",
        "plt.legend(title=\"day in week\", bbox_to_anchor=(1.05, 1), loc='upper left')\n",
        "plt.show()\n"
      ]
    },
    {
      "cell_type": "markdown",
      "source": [
        "**Obseerved Pattern:**\n",
        "\n",
        "It is evident from observation that the middle sections of the map show large clusters of criminal episodes, which could indicate areas with higher people densities, such nightclubs or business hubs, or city centers. It's interesting to see how evenly spaced out the colors on the map indicate the various days of the week. This consistency shows that there isn't a clear trend of crimes happening on particular days in specific areas; in other words, there doesn't seem to be a consistent risk of crime in a given place on any given day of the week. Furthermore, the map's periphery shows fewer data dots, which suggests a decrease in crime incidences. This could indicate that the area is residential or less inhabited. Based on these observations, there doesn't seem to be a day on which a certain location has noticeably higher crime rates."
      ],
      "metadata": {
        "id": "gTm1mno2Qgq1"
      },
      "id": "gTm1mno2Qgq1"
    },
    {
      "cell_type": "markdown",
      "source": [
        "**Q2) Now make a new scatter plot and use the color property of each datapoint to indicate the number of persons involved in the incident. Is there a pattern here?**"
      ],
      "metadata": {
        "id": "7gSZqx9gRRkD"
      },
      "id": "7gSZqx9gRRkD"
    },
    {
      "cell_type": "code",
      "source": [
        "plt.figure(figsize=(10, 6))\n",
        "sns.scatterplot(data=df, x=\"X\", y=\"Y\", hue=\"MappedVictimCount\", palette=\"viridis\", s=15, alpha=0.6)\n",
        "plt.title(\"crime according to the involvment of the person\")\n",
        "plt.legend(title=\"person count\", bbox_to_anchor=(1.05, 1), loc='upper left')\n",
        "plt.show()"
      ],
      "metadata": {
        "colab": {
          "base_uri": "https://localhost:8080/",
          "height": 564
        },
        "id": "Wxw5WFs3QjO_",
        "outputId": "c1117408-1206-48cc-dedf-7933cd2eb55b"
      },
      "id": "Wxw5WFs3QjO_",
      "execution_count": 2148,
      "outputs": [
        {
          "output_type": "display_data",
          "data": {
            "text/plain": [
              "<Figure size 1000x600 with 1 Axes>"
            ],
            "image/png": "[encoded data removed]"
          },
          "metadata": {}
        }
      ]
    },
    {
      "cell_type": "markdown",
      "source": [
        "**Obseerved Pattern:**\n",
        "\n",
        "First off, as the plot's constant color intensity suggests, most instances involve a single victim, and these cases are dispersed equally throughout the entire area.\n",
        "\n",
        "Second, the plot occasionally has spots where the color intensity changes, which could indicate instances involving many victims. These are dispersed points, not concentrated in one place.\n",
        "\n",
        "Furthermore, the central regions exhibit a concentration of events, presumably indicating urban or densely populated areas. The general perception that crimes tend to happen more frequently in crowded settings is supported by the higher frequency of incidences.\n",
        "\n",
        "Last but not least, the area's periphery displays sparse data points, suggesting fewer events there than in the inner parts.\n",
        "\n"
      ],
      "metadata": {
        "id": "KWnlmPwnRhh1"
      },
      "id": "KWnlmPwnRhh1"
    },
    {
      "cell_type": "markdown",
      "source": [
        "**Q3) use numpy (or pandas if you like) to sort the number of crimes reported by the day of the week. What days are most frequent?**\n",
        "\n",
        "\n",
        "\n"
      ],
      "metadata": {
        "id": "LdlEPd2WSef8"
      },
      "id": "LdlEPd2WSef8"
    },
    {
      "cell_type": "code",
      "source": [
        "# Sorting the crime as per week day\n",
        "crime_counts_by_day = df['DayOfWeek'].value_counts().sort_index()\n",
        "\n",
        "# Bar chart for the crime according to the days\n",
        "plt.figure(figsize=(10, 6))\n",
        "crime_counts_by_day.plot(kind='bar', color='skyblue')\n",
        "plt.title('Crime according to weekdays')\n",
        "plt.xlabel('Day in the week')\n",
        "plt.ylabel('frequency of the crime')\n",
        "plt.xticks(rotation=0)\n",
        "plt.show()\n",
        "\n",
        "# which day has highest crime\n",
        "most_frequent_days = crime_counts_by_day.idxmax()\n",
        "print(f\"The day with the highest crime is: {most_frequent_days}\")\n",
        "\n",
        "for day, count in zip(crime_counts_by_day.index, crime_counts_by_day.values):\n",
        "    print(f\"{day}: {count}\")"
      ],
      "metadata": {
        "colab": {
          "base_uri": "https://localhost:8080/",
          "height": 703
        },
        "id": "uU1GZnANsXRp",
        "outputId": "69457d09-5167-4312-a9b8-917ca02ba5cc"
      },
      "id": "uU1GZnANsXRp",
      "execution_count": 2146,
      "outputs": [
        {
          "output_type": "display_data",
          "data": {
            "text/plain": [
              "<Figure size 1000x600 with 1 Axes>"
            ],
            "image/png": "[encoded data removed]"
          },
          "metadata": {}
        },
        {
          "output_type": "stream",
          "name": "stdout",
          "text": [
            "The day with the highest crime is: 3\n",
            "0: 40\n",
            "1: 43\n",
            "2: 44\n",
            "3: 51\n",
            "4: 37\n",
            "5: 32\n",
            "6: 28\n"
          ]
        }
      ]
    },
    {
      "cell_type": "markdown",
      "source": [
        "**From the sorted data on the number of reported crimes by day of the week:**\n",
        "\n",
        "There is a discernible pattern in the reported crimes over the course of the week. With 51 incidences overall, Wednesday has the largest number, closely followed by Tuesday with 44, Monday with 43, and Wednesday with 51. Sunday, on the other hand, has the lowest crime rate just 28 instances. According to this pattern, there are more crimes throughout the middle of the week, notably on Wednesday, while fewer crimes are reported over the weekend, especially on Sunday."
      ],
      "metadata": {
        "id": "TSVsJ9s6hZcE"
      },
      "id": "TSVsJ9s6hZcE"
    }
  ],
  "metadata": {
    "kernelspec": {
      "display_name": "Python 3 (ipykernel)",
      "language": "python",
      "name": "python3"
    },
    "language_info": {
      "codemirror_mode": {
        "name": "ipython",
        "version": 3
      },
      "file_extension": ".py",
      "mimetype": "text/x-python",
      "name": "python",
      "nbconvert_exporter": "python",
      "pygments_lexer": "ipython3",
      "version": "3.11.5"
    },
    "colab": {
      "provenance": []
    }
  },
  "nbformat": 4,
  "nbformat_minor": 5
}